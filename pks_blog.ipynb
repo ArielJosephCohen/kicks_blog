{
 "cells": [
  {
   "cell_type": "code",
   "execution_count": 151,
   "metadata": {},
   "outputs": [],
   "source": [
    "# imports\n",
    "%matplotlib inline\n",
    "import requests\n",
    "import pandas as pd\n",
    "import json\n",
    "import pdb\n",
    "import numpy as np\n",
    "import matplotlib.pyplot as plt\n",
    "import seaborn as sns\n",
    "import math\n",
    "from scipy import stats"
   ]
  },
  {
   "cell_type": "code",
   "execution_count": 206,
   "metadata": {},
   "outputs": [
    {
     "data": {
      "text/html": [
       "<div>\n",
       "<style scoped>\n",
       "    .dataframe tbody tr th:only-of-type {\n",
       "        vertical-align: middle;\n",
       "    }\n",
       "\n",
       "    .dataframe tbody tr th {\n",
       "        vertical-align: top;\n",
       "    }\n",
       "\n",
       "    .dataframe thead th {\n",
       "        text-align: right;\n",
       "    }\n",
       "</style>\n",
       "<table border=\"1\" class=\"dataframe\">\n",
       "  <thead>\n",
       "    <tr style=\"text-align: right;\">\n",
       "      <th></th>\n",
       "      <th>Kicker Name</th>\n",
       "      <th>WORLD CUP DETAILS</th>\n",
       "      <th>Year</th>\n",
       "      <th>Location</th>\n",
       "      <th>GAME DETAILS</th>\n",
       "      <th>Attendance</th>\n",
       "      <th>Weather</th>\n",
       "      <th>League round</th>\n",
       "      <th>Time of day</th>\n",
       "      <th>KEEPER DETAILS</th>\n",
       "      <th>...</th>\n",
       "      <th>Keeper Play</th>\n",
       "      <th>Post (y/n)</th>\n",
       "      <th>FOR LATER PROJECT</th>\n",
       "      <th>GOLDEN BALL?</th>\n",
       "      <th>Home/Away</th>\n",
       "      <th>Lead/Deficit</th>\n",
       "      <th>FIFA pk rating</th>\n",
       "      <th>PES pk rating</th>\n",
       "      <th>Games missed</th>\n",
       "      <th>UCL experience</th>\n",
       "    </tr>\n",
       "  </thead>\n",
       "  <tbody>\n",
       "    <tr>\n",
       "      <td>0</td>\n",
       "      <td>Giresse</td>\n",
       "      <td>NaN</td>\n",
       "      <td>1982</td>\n",
       "      <td>Spain</td>\n",
       "      <td>NaN</td>\n",
       "      <td>70000</td>\n",
       "      <td>99 f</td>\n",
       "      <td>Semi Finals</td>\n",
       "      <td>9:00 PM</td>\n",
       "      <td>NaN</td>\n",
       "      <td>...</td>\n",
       "      <td>Right</td>\n",
       "      <td>no</td>\n",
       "      <td>NaN</td>\n",
       "      <td>NaN</td>\n",
       "      <td>NaN</td>\n",
       "      <td>NaN</td>\n",
       "      <td>NaN</td>\n",
       "      <td>NaN</td>\n",
       "      <td>NaN</td>\n",
       "      <td>NaN</td>\n",
       "    </tr>\n",
       "    <tr>\n",
       "      <td>1</td>\n",
       "      <td>Kaltz</td>\n",
       "      <td>NaN</td>\n",
       "      <td>1982</td>\n",
       "      <td>Spain</td>\n",
       "      <td>NaN</td>\n",
       "      <td>70000</td>\n",
       "      <td>99 f</td>\n",
       "      <td>Semi Finals</td>\n",
       "      <td>9:00 PM</td>\n",
       "      <td>NaN</td>\n",
       "      <td>...</td>\n",
       "      <td>Left</td>\n",
       "      <td>no</td>\n",
       "      <td>NaN</td>\n",
       "      <td>NaN</td>\n",
       "      <td>NaN</td>\n",
       "      <td>NaN</td>\n",
       "      <td>NaN</td>\n",
       "      <td>NaN</td>\n",
       "      <td>NaN</td>\n",
       "      <td>NaN</td>\n",
       "    </tr>\n",
       "    <tr>\n",
       "      <td>2</td>\n",
       "      <td>Amoros</td>\n",
       "      <td>NaN</td>\n",
       "      <td>1982</td>\n",
       "      <td>Spain</td>\n",
       "      <td>NaN</td>\n",
       "      <td>70000</td>\n",
       "      <td>99 f</td>\n",
       "      <td>Semi Finals</td>\n",
       "      <td>9:00 PM</td>\n",
       "      <td>NaN</td>\n",
       "      <td>...</td>\n",
       "      <td>Left</td>\n",
       "      <td>no</td>\n",
       "      <td>NaN</td>\n",
       "      <td>NaN</td>\n",
       "      <td>NaN</td>\n",
       "      <td>NaN</td>\n",
       "      <td>NaN</td>\n",
       "      <td>NaN</td>\n",
       "      <td>NaN</td>\n",
       "      <td>NaN</td>\n",
       "    </tr>\n",
       "    <tr>\n",
       "      <td>3</td>\n",
       "      <td>Breitner</td>\n",
       "      <td>NaN</td>\n",
       "      <td>1982</td>\n",
       "      <td>Spain</td>\n",
       "      <td>NaN</td>\n",
       "      <td>70000</td>\n",
       "      <td>99 f</td>\n",
       "      <td>Semi Finals</td>\n",
       "      <td>9:00 PM</td>\n",
       "      <td>NaN</td>\n",
       "      <td>...</td>\n",
       "      <td>Left</td>\n",
       "      <td>no</td>\n",
       "      <td>NaN</td>\n",
       "      <td>NaN</td>\n",
       "      <td>NaN</td>\n",
       "      <td>NaN</td>\n",
       "      <td>NaN</td>\n",
       "      <td>NaN</td>\n",
       "      <td>NaN</td>\n",
       "      <td>NaN</td>\n",
       "    </tr>\n",
       "    <tr>\n",
       "      <td>4</td>\n",
       "      <td>Rocheteau</td>\n",
       "      <td>NaN</td>\n",
       "      <td>1982</td>\n",
       "      <td>Spain</td>\n",
       "      <td>NaN</td>\n",
       "      <td>70000</td>\n",
       "      <td>99 f</td>\n",
       "      <td>Semi Finals</td>\n",
       "      <td>9:00 PM</td>\n",
       "      <td>NaN</td>\n",
       "      <td>...</td>\n",
       "      <td>Left</td>\n",
       "      <td>no</td>\n",
       "      <td>NaN</td>\n",
       "      <td>NaN</td>\n",
       "      <td>NaN</td>\n",
       "      <td>NaN</td>\n",
       "      <td>NaN</td>\n",
       "      <td>NaN</td>\n",
       "      <td>NaN</td>\n",
       "      <td>NaN</td>\n",
       "    </tr>\n",
       "    <tr>\n",
       "      <td>5</td>\n",
       "      <td>Stielike</td>\n",
       "      <td>NaN</td>\n",
       "      <td>1982</td>\n",
       "      <td>Spain</td>\n",
       "      <td>NaN</td>\n",
       "      <td>70000</td>\n",
       "      <td>99 f</td>\n",
       "      <td>Semi Finals</td>\n",
       "      <td>9:00 PM</td>\n",
       "      <td>NaN</td>\n",
       "      <td>...</td>\n",
       "      <td>Left</td>\n",
       "      <td>no</td>\n",
       "      <td>NaN</td>\n",
       "      <td>NaN</td>\n",
       "      <td>NaN</td>\n",
       "      <td>NaN</td>\n",
       "      <td>NaN</td>\n",
       "      <td>NaN</td>\n",
       "      <td>NaN</td>\n",
       "      <td>NaN</td>\n",
       "    </tr>\n",
       "    <tr>\n",
       "      <td>6</td>\n",
       "      <td>Six</td>\n",
       "      <td>NaN</td>\n",
       "      <td>1982</td>\n",
       "      <td>Spain</td>\n",
       "      <td>NaN</td>\n",
       "      <td>70000</td>\n",
       "      <td>99 f</td>\n",
       "      <td>Semi Finals</td>\n",
       "      <td>9:00 PM</td>\n",
       "      <td>NaN</td>\n",
       "      <td>...</td>\n",
       "      <td>Left</td>\n",
       "      <td>no</td>\n",
       "      <td>NaN</td>\n",
       "      <td>NaN</td>\n",
       "      <td>NaN</td>\n",
       "      <td>NaN</td>\n",
       "      <td>NaN</td>\n",
       "      <td>NaN</td>\n",
       "      <td>NaN</td>\n",
       "      <td>NaN</td>\n",
       "    </tr>\n",
       "    <tr>\n",
       "      <td>7</td>\n",
       "      <td>Littbarski</td>\n",
       "      <td>NaN</td>\n",
       "      <td>1982</td>\n",
       "      <td>Spain</td>\n",
       "      <td>NaN</td>\n",
       "      <td>70000</td>\n",
       "      <td>99 f</td>\n",
       "      <td>Semi Finals</td>\n",
       "      <td>9:00 PM</td>\n",
       "      <td>NaN</td>\n",
       "      <td>...</td>\n",
       "      <td>Right</td>\n",
       "      <td>no</td>\n",
       "      <td>NaN</td>\n",
       "      <td>NaN</td>\n",
       "      <td>NaN</td>\n",
       "      <td>NaN</td>\n",
       "      <td>NaN</td>\n",
       "      <td>NaN</td>\n",
       "      <td>NaN</td>\n",
       "      <td>NaN</td>\n",
       "    </tr>\n",
       "    <tr>\n",
       "      <td>8</td>\n",
       "      <td>Platini</td>\n",
       "      <td>NaN</td>\n",
       "      <td>1982</td>\n",
       "      <td>Spain</td>\n",
       "      <td>NaN</td>\n",
       "      <td>70000</td>\n",
       "      <td>99 f</td>\n",
       "      <td>Semi Finals</td>\n",
       "      <td>9:00 PM</td>\n",
       "      <td>NaN</td>\n",
       "      <td>...</td>\n",
       "      <td>Left</td>\n",
       "      <td>no</td>\n",
       "      <td>NaN</td>\n",
       "      <td>NaN</td>\n",
       "      <td>NaN</td>\n",
       "      <td>NaN</td>\n",
       "      <td>NaN</td>\n",
       "      <td>NaN</td>\n",
       "      <td>NaN</td>\n",
       "      <td>NaN</td>\n",
       "    </tr>\n",
       "    <tr>\n",
       "      <td>9</td>\n",
       "      <td>Rummenigge</td>\n",
       "      <td>NaN</td>\n",
       "      <td>1982</td>\n",
       "      <td>Spain</td>\n",
       "      <td>NaN</td>\n",
       "      <td>70000</td>\n",
       "      <td>99 f</td>\n",
       "      <td>Semi Finals</td>\n",
       "      <td>9:00 PM</td>\n",
       "      <td>NaN</td>\n",
       "      <td>...</td>\n",
       "      <td>Middle</td>\n",
       "      <td>no</td>\n",
       "      <td>NaN</td>\n",
       "      <td>Bronze</td>\n",
       "      <td>NaN</td>\n",
       "      <td>NaN</td>\n",
       "      <td>NaN</td>\n",
       "      <td>NaN</td>\n",
       "      <td>NaN</td>\n",
       "      <td>NaN</td>\n",
       "    </tr>\n",
       "    <tr>\n",
       "      <td>10</td>\n",
       "      <td>Bossis</td>\n",
       "      <td>NaN</td>\n",
       "      <td>1982</td>\n",
       "      <td>Spain</td>\n",
       "      <td>NaN</td>\n",
       "      <td>70000</td>\n",
       "      <td>99 f</td>\n",
       "      <td>Semi Finals</td>\n",
       "      <td>9:00 PM</td>\n",
       "      <td>NaN</td>\n",
       "      <td>...</td>\n",
       "      <td>Left</td>\n",
       "      <td>no</td>\n",
       "      <td>NaN</td>\n",
       "      <td>NaN</td>\n",
       "      <td>NaN</td>\n",
       "      <td>NaN</td>\n",
       "      <td>NaN</td>\n",
       "      <td>NaN</td>\n",
       "      <td>NaN</td>\n",
       "      <td>NaN</td>\n",
       "    </tr>\n",
       "    <tr>\n",
       "      <td>11</td>\n",
       "      <td>Hurbesch</td>\n",
       "      <td>NaN</td>\n",
       "      <td>1982</td>\n",
       "      <td>Spain</td>\n",
       "      <td>NaN</td>\n",
       "      <td>70000</td>\n",
       "      <td>99 f</td>\n",
       "      <td>Semi Finals</td>\n",
       "      <td>9:00 PM</td>\n",
       "      <td>NaN</td>\n",
       "      <td>...</td>\n",
       "      <td>Left</td>\n",
       "      <td>no</td>\n",
       "      <td>NaN</td>\n",
       "      <td>NaN</td>\n",
       "      <td>NaN</td>\n",
       "      <td>NaN</td>\n",
       "      <td>NaN</td>\n",
       "      <td>NaN</td>\n",
       "      <td>NaN</td>\n",
       "      <td>NaN</td>\n",
       "    </tr>\n",
       "    <tr>\n",
       "      <td>12</td>\n",
       "      <td>Socrates</td>\n",
       "      <td>NaN</td>\n",
       "      <td>1986</td>\n",
       "      <td>Mexico</td>\n",
       "      <td>NaN</td>\n",
       "      <td>65000</td>\n",
       "      <td>NaN</td>\n",
       "      <td>Quarter Finals</td>\n",
       "      <td>12:00 PM</td>\n",
       "      <td>NaN</td>\n",
       "      <td>...</td>\n",
       "      <td>Left</td>\n",
       "      <td>no</td>\n",
       "      <td>NaN</td>\n",
       "      <td>NaN</td>\n",
       "      <td>NaN</td>\n",
       "      <td>NaN</td>\n",
       "      <td>NaN</td>\n",
       "      <td>NaN</td>\n",
       "      <td>NaN</td>\n",
       "      <td>NaN</td>\n",
       "    </tr>\n",
       "    <tr>\n",
       "      <td>13</td>\n",
       "      <td>Stopyra</td>\n",
       "      <td>NaN</td>\n",
       "      <td>1986</td>\n",
       "      <td>Mexico</td>\n",
       "      <td>NaN</td>\n",
       "      <td>65000</td>\n",
       "      <td>NaN</td>\n",
       "      <td>Quarter Finals</td>\n",
       "      <td>12:00 PM</td>\n",
       "      <td>NaN</td>\n",
       "      <td>...</td>\n",
       "      <td>Right</td>\n",
       "      <td>no</td>\n",
       "      <td>NaN</td>\n",
       "      <td>NaN</td>\n",
       "      <td>NaN</td>\n",
       "      <td>NaN</td>\n",
       "      <td>NaN</td>\n",
       "      <td>NaN</td>\n",
       "      <td>NaN</td>\n",
       "      <td>NaN</td>\n",
       "    </tr>\n",
       "    <tr>\n",
       "      <td>14</td>\n",
       "      <td>Alemao</td>\n",
       "      <td>NaN</td>\n",
       "      <td>1986</td>\n",
       "      <td>Mexico</td>\n",
       "      <td>NaN</td>\n",
       "      <td>65000</td>\n",
       "      <td>NaN</td>\n",
       "      <td>Quarter Finals</td>\n",
       "      <td>12:00 PM</td>\n",
       "      <td>NaN</td>\n",
       "      <td>...</td>\n",
       "      <td>Right</td>\n",
       "      <td>no</td>\n",
       "      <td>NaN</td>\n",
       "      <td>NaN</td>\n",
       "      <td>NaN</td>\n",
       "      <td>NaN</td>\n",
       "      <td>NaN</td>\n",
       "      <td>NaN</td>\n",
       "      <td>NaN</td>\n",
       "      <td>NaN</td>\n",
       "    </tr>\n",
       "  </tbody>\n",
       "</table>\n",
       "<p>15 rows × 44 columns</p>\n",
       "</div>"
      ],
      "text/plain": [
       "   Kicker Name  WORLD CUP DETAILS  Year Location  GAME DETAILS  Attendance  \\\n",
       "0      Giresse                NaN  1982    Spain           NaN       70000   \n",
       "1        Kaltz                NaN  1982    Spain           NaN       70000   \n",
       "2       Amoros                NaN  1982    Spain           NaN       70000   \n",
       "3     Breitner                NaN  1982    Spain           NaN       70000   \n",
       "4    Rocheteau                NaN  1982    Spain           NaN       70000   \n",
       "5     Stielike                NaN  1982    Spain           NaN       70000   \n",
       "6          Six                NaN  1982    Spain           NaN       70000   \n",
       "7   Littbarski                NaN  1982    Spain           NaN       70000   \n",
       "8      Platini                NaN  1982    Spain           NaN       70000   \n",
       "9   Rummenigge                NaN  1982    Spain           NaN       70000   \n",
       "10      Bossis                NaN  1982    Spain           NaN       70000   \n",
       "11    Hurbesch                NaN  1982    Spain           NaN       70000   \n",
       "12    Socrates                NaN  1986   Mexico           NaN       65000   \n",
       "13     Stopyra                NaN  1986   Mexico           NaN       65000   \n",
       "14      Alemao                NaN  1986   Mexico           NaN       65000   \n",
       "\n",
       "   Weather    League round Time of day  KEEPER DETAILS  ... Keeper Play  \\\n",
       "0     99 f     Semi Finals     9:00 PM             NaN  ...       Right   \n",
       "1     99 f     Semi Finals     9:00 PM             NaN  ...        Left   \n",
       "2     99 f     Semi Finals     9:00 PM             NaN  ...        Left   \n",
       "3     99 f     Semi Finals     9:00 PM             NaN  ...        Left   \n",
       "4     99 f     Semi Finals     9:00 PM             NaN  ...        Left   \n",
       "5     99 f     Semi Finals     9:00 PM             NaN  ...        Left   \n",
       "6     99 f     Semi Finals     9:00 PM             NaN  ...        Left   \n",
       "7     99 f     Semi Finals     9:00 PM             NaN  ...       Right   \n",
       "8     99 f     Semi Finals     9:00 PM             NaN  ...        Left   \n",
       "9     99 f     Semi Finals     9:00 PM             NaN  ...      Middle   \n",
       "10    99 f     Semi Finals     9:00 PM             NaN  ...        Left   \n",
       "11    99 f     Semi Finals     9:00 PM             NaN  ...        Left   \n",
       "12     NaN  Quarter Finals    12:00 PM             NaN  ...        Left   \n",
       "13     NaN  Quarter Finals    12:00 PM             NaN  ...       Right   \n",
       "14     NaN  Quarter Finals    12:00 PM             NaN  ...       Right   \n",
       "\n",
       "    Post (y/n)  FOR LATER PROJECT GOLDEN BALL? Home/Away Lead/Deficit  \\\n",
       "0           no                NaN          NaN       NaN          NaN   \n",
       "1           no                NaN          NaN       NaN          NaN   \n",
       "2           no                NaN          NaN       NaN          NaN   \n",
       "3           no                NaN          NaN       NaN          NaN   \n",
       "4           no                NaN          NaN       NaN          NaN   \n",
       "5           no                NaN          NaN       NaN          NaN   \n",
       "6           no                NaN          NaN       NaN          NaN   \n",
       "7           no                NaN          NaN       NaN          NaN   \n",
       "8           no                NaN          NaN       NaN          NaN   \n",
       "9           no                NaN       Bronze       NaN          NaN   \n",
       "10          no                NaN          NaN       NaN          NaN   \n",
       "11          no                NaN          NaN       NaN          NaN   \n",
       "12          no                NaN          NaN       NaN          NaN   \n",
       "13          no                NaN          NaN       NaN          NaN   \n",
       "14          no                NaN          NaN       NaN          NaN   \n",
       "\n",
       "    FIFA pk rating  PES pk rating Games missed  UCL experience  \n",
       "0              NaN            NaN           NaN            NaN  \n",
       "1              NaN            NaN           NaN            NaN  \n",
       "2              NaN            NaN           NaN            NaN  \n",
       "3              NaN            NaN           NaN            NaN  \n",
       "4              NaN            NaN           NaN            NaN  \n",
       "5              NaN            NaN           NaN            NaN  \n",
       "6              NaN            NaN           NaN            NaN  \n",
       "7              NaN            NaN           NaN            NaN  \n",
       "8              NaN            NaN           NaN            NaN  \n",
       "9              NaN            NaN           NaN            NaN  \n",
       "10             NaN            NaN           NaN            NaN  \n",
       "11             NaN            NaN           NaN            NaN  \n",
       "12             NaN            NaN           NaN            NaN  \n",
       "13             NaN            NaN           NaN            NaN  \n",
       "14             NaN            NaN           NaN            NaN  \n",
       "\n",
       "[15 rows x 44 columns]"
      ]
     },
     "execution_count": 206,
     "metadata": {},
     "output_type": "execute_result"
    }
   ],
   "source": [
    "# load data\n",
    "df = pd.read_csv('/Users/flatironschool/Documents/kicks.csv')\n",
    "df.head(15)"
   ]
  },
  {
   "cell_type": "code",
   "execution_count": 207,
   "metadata": {},
   "outputs": [
    {
     "data": {
      "text/plain": [
       "Index(['Kicker Name', 'WORLD CUP DETAILS', 'Year', 'Location', 'GAME DETAILS',\n",
       "       'Attendance', 'Weather', 'League round', 'Time of day',\n",
       "       'KEEPER DETAILS', 'Keeper', 'Keeper height (m)', 'PLAYER DETAILS',\n",
       "       'Club', 'Nationality', 'Captain', 'Number', 'Age', 'Role', 'Position',\n",
       "       'Dominant foot', 'Player height (m)', 'Player weight (kg)',\n",
       "       'PLAYER IN-GAME STATS', 'Minutes played', 'Goals scored',\n",
       "       'Yellow card (y/n)', 'Team red card (y/n)', 'SHOOTOUT FACTS', 'Kick #',\n",
       "       'Game On Line (y/n)', 'Deficit/Lead (SO)', 'Direction', 'Result',\n",
       "       'Keeper Play', 'Post (y/n)', 'FOR LATER PROJECT', 'GOLDEN BALL?',\n",
       "       'Home/Away', 'Lead/Deficit', 'FIFA pk rating', 'PES pk rating',\n",
       "       'Games missed ', 'UCL experience'],\n",
       "      dtype='object')"
      ]
     },
     "execution_count": 207,
     "metadata": {},
     "output_type": "execute_result"
    }
   ],
   "source": [
    "# columns in data\n",
    "df.columns"
   ]
  },
  {
   "cell_type": "code",
   "execution_count": 153,
   "metadata": {
    "scrolled": true
   },
   "outputs": [],
   "source": [
    "# keeper height dictionary\n",
    "k_h_dict = {}\n",
    "for k in df['Keeper'].unique():\n",
    "    k_h_dict[k] = list(df.loc[df['Keeper']==k]['Keeper height (m)'])[0]"
   ]
  },
  {
   "cell_type": "code",
   "execution_count": 154,
   "metadata": {},
   "outputs": [],
   "source": [
    "# data visualization packages\n",
    "import seaborn as sns\n",
    "import matplotlib.pyplot as plt"
   ]
  },
  {
   "cell_type": "code",
   "execution_count": 155,
   "metadata": {},
   "outputs": [
    {
     "data": {
      "text/html": [
       "<div>\n",
       "<style scoped>\n",
       "    .dataframe tbody tr th:only-of-type {\n",
       "        vertical-align: middle;\n",
       "    }\n",
       "\n",
       "    .dataframe tbody tr th {\n",
       "        vertical-align: top;\n",
       "    }\n",
       "\n",
       "    .dataframe thead th {\n",
       "        text-align: right;\n",
       "    }\n",
       "</style>\n",
       "<table border=\"1\" class=\"dataframe\">\n",
       "  <thead>\n",
       "    <tr style=\"text-align: right;\">\n",
       "      <th></th>\n",
       "      <th>Kicker Name</th>\n",
       "      <th>WORLD CUP DETAILS</th>\n",
       "      <th>Year</th>\n",
       "      <th>Location</th>\n",
       "      <th>GAME DETAILS</th>\n",
       "      <th>Attendance</th>\n",
       "      <th>Weather</th>\n",
       "      <th>League round</th>\n",
       "      <th>Time of day</th>\n",
       "      <th>KEEPER DETAILS</th>\n",
       "      <th>...</th>\n",
       "      <th>Keeper Play</th>\n",
       "      <th>Post (y/n)</th>\n",
       "      <th>FOR LATER PROJECT</th>\n",
       "      <th>GOLDEN BALL?</th>\n",
       "      <th>Home/Away</th>\n",
       "      <th>Lead/Deficit</th>\n",
       "      <th>FIFA pk rating</th>\n",
       "      <th>PES pk rating</th>\n",
       "      <th>Games missed</th>\n",
       "      <th>UCL experience</th>\n",
       "    </tr>\n",
       "  </thead>\n",
       "  <tbody>\n",
       "    <tr>\n",
       "      <td>0</td>\n",
       "      <td>Giresse</td>\n",
       "      <td>NaN</td>\n",
       "      <td>1982</td>\n",
       "      <td>Spain</td>\n",
       "      <td>NaN</td>\n",
       "      <td>70000</td>\n",
       "      <td>99 f</td>\n",
       "      <td>Semi Finals</td>\n",
       "      <td>9:00 PM</td>\n",
       "      <td>NaN</td>\n",
       "      <td>...</td>\n",
       "      <td>Right</td>\n",
       "      <td>no</td>\n",
       "      <td>NaN</td>\n",
       "      <td>NaN</td>\n",
       "      <td>NaN</td>\n",
       "      <td>NaN</td>\n",
       "      <td>NaN</td>\n",
       "      <td>NaN</td>\n",
       "      <td>NaN</td>\n",
       "      <td>NaN</td>\n",
       "    </tr>\n",
       "    <tr>\n",
       "      <td>1</td>\n",
       "      <td>Kaltz</td>\n",
       "      <td>NaN</td>\n",
       "      <td>1982</td>\n",
       "      <td>Spain</td>\n",
       "      <td>NaN</td>\n",
       "      <td>70000</td>\n",
       "      <td>99 f</td>\n",
       "      <td>Semi Finals</td>\n",
       "      <td>9:00 PM</td>\n",
       "      <td>NaN</td>\n",
       "      <td>...</td>\n",
       "      <td>Left</td>\n",
       "      <td>no</td>\n",
       "      <td>NaN</td>\n",
       "      <td>NaN</td>\n",
       "      <td>NaN</td>\n",
       "      <td>NaN</td>\n",
       "      <td>NaN</td>\n",
       "      <td>NaN</td>\n",
       "      <td>NaN</td>\n",
       "      <td>NaN</td>\n",
       "    </tr>\n",
       "    <tr>\n",
       "      <td>2</td>\n",
       "      <td>Amoros</td>\n",
       "      <td>NaN</td>\n",
       "      <td>1982</td>\n",
       "      <td>Spain</td>\n",
       "      <td>NaN</td>\n",
       "      <td>70000</td>\n",
       "      <td>99 f</td>\n",
       "      <td>Semi Finals</td>\n",
       "      <td>9:00 PM</td>\n",
       "      <td>NaN</td>\n",
       "      <td>...</td>\n",
       "      <td>Left</td>\n",
       "      <td>no</td>\n",
       "      <td>NaN</td>\n",
       "      <td>NaN</td>\n",
       "      <td>NaN</td>\n",
       "      <td>NaN</td>\n",
       "      <td>NaN</td>\n",
       "      <td>NaN</td>\n",
       "      <td>NaN</td>\n",
       "      <td>NaN</td>\n",
       "    </tr>\n",
       "    <tr>\n",
       "      <td>3</td>\n",
       "      <td>Breitner</td>\n",
       "      <td>NaN</td>\n",
       "      <td>1982</td>\n",
       "      <td>Spain</td>\n",
       "      <td>NaN</td>\n",
       "      <td>70000</td>\n",
       "      <td>99 f</td>\n",
       "      <td>Semi Finals</td>\n",
       "      <td>9:00 PM</td>\n",
       "      <td>NaN</td>\n",
       "      <td>...</td>\n",
       "      <td>Left</td>\n",
       "      <td>no</td>\n",
       "      <td>NaN</td>\n",
       "      <td>NaN</td>\n",
       "      <td>NaN</td>\n",
       "      <td>NaN</td>\n",
       "      <td>NaN</td>\n",
       "      <td>NaN</td>\n",
       "      <td>NaN</td>\n",
       "      <td>NaN</td>\n",
       "    </tr>\n",
       "    <tr>\n",
       "      <td>4</td>\n",
       "      <td>Rocheteau</td>\n",
       "      <td>NaN</td>\n",
       "      <td>1982</td>\n",
       "      <td>Spain</td>\n",
       "      <td>NaN</td>\n",
       "      <td>70000</td>\n",
       "      <td>99 f</td>\n",
       "      <td>Semi Finals</td>\n",
       "      <td>9:00 PM</td>\n",
       "      <td>NaN</td>\n",
       "      <td>...</td>\n",
       "      <td>Left</td>\n",
       "      <td>no</td>\n",
       "      <td>NaN</td>\n",
       "      <td>NaN</td>\n",
       "      <td>NaN</td>\n",
       "      <td>NaN</td>\n",
       "      <td>NaN</td>\n",
       "      <td>NaN</td>\n",
       "      <td>NaN</td>\n",
       "      <td>NaN</td>\n",
       "    </tr>\n",
       "  </tbody>\n",
       "</table>\n",
       "<p>5 rows × 44 columns</p>\n",
       "</div>"
      ],
      "text/plain": [
       "  Kicker Name  WORLD CUP DETAILS  Year Location  GAME DETAILS  Attendance  \\\n",
       "0     Giresse                NaN  1982    Spain           NaN       70000   \n",
       "1       Kaltz                NaN  1982    Spain           NaN       70000   \n",
       "2      Amoros                NaN  1982    Spain           NaN       70000   \n",
       "3    Breitner                NaN  1982    Spain           NaN       70000   \n",
       "4   Rocheteau                NaN  1982    Spain           NaN       70000   \n",
       "\n",
       "  Weather League round Time of day  KEEPER DETAILS  ... Keeper Play  \\\n",
       "0    99 f  Semi Finals     9:00 PM             NaN  ...       Right   \n",
       "1    99 f  Semi Finals     9:00 PM             NaN  ...        Left   \n",
       "2    99 f  Semi Finals     9:00 PM             NaN  ...        Left   \n",
       "3    99 f  Semi Finals     9:00 PM             NaN  ...        Left   \n",
       "4    99 f  Semi Finals     9:00 PM             NaN  ...        Left   \n",
       "\n",
       "   Post (y/n)  FOR LATER PROJECT GOLDEN BALL? Home/Away Lead/Deficit  \\\n",
       "0          no                NaN          NaN       NaN          NaN   \n",
       "1          no                NaN          NaN       NaN          NaN   \n",
       "2          no                NaN          NaN       NaN          NaN   \n",
       "3          no                NaN          NaN       NaN          NaN   \n",
       "4          no                NaN          NaN       NaN          NaN   \n",
       "\n",
       "   FIFA pk rating  PES pk rating Games missed  UCL experience  \n",
       "0             NaN            NaN           NaN            NaN  \n",
       "1             NaN            NaN           NaN            NaN  \n",
       "2             NaN            NaN           NaN            NaN  \n",
       "3             NaN            NaN           NaN            NaN  \n",
       "4             NaN            NaN           NaN            NaN  \n",
       "\n",
       "[5 rows x 44 columns]"
      ]
     },
     "execution_count": 155,
     "metadata": {},
     "output_type": "execute_result"
    }
   ],
   "source": [
    "# preview of data\n",
    "df.head()"
   ]
  },
  {
   "cell_type": "code",
   "execution_count": 160,
   "metadata": {},
   "outputs": [
    {
     "data": {
      "text/plain": [
       "Bottom Left     32\n",
       "Top Left        29\n",
       "Bottom Right    24\n",
       "Top Right       20\n",
       "Middle          13\n",
       "###             12\n",
       "MIddle           2\n",
       " Bottom Left     1\n",
       " Top Right       1\n",
       "Name: Direction, dtype: int64"
      ]
     },
     "execution_count": 160,
     "metadata": {},
     "output_type": "execute_result"
    }
   ],
   "source": [
    "# distribtuion of shot directions\n",
    "(df['Direction']).value_counts()"
   ]
  },
  {
   "cell_type": "code",
   "execution_count": 163,
   "metadata": {},
   "outputs": [],
   "source": [
    "# preparing labels and numbers for a bar graph\n",
    "directions = ['BL', 'TL', 'M', 'BR', 'TR']\n",
    "frequency = [33,29,15,24,21]"
   ]
  },
  {
   "cell_type": "code",
   "execution_count": 168,
   "metadata": {},
   "outputs": [
    {
     "data": {
      "text/plain": [
       "Text(0, 0.5, 'frequency')"
      ]
     },
     "execution_count": 168,
     "metadata": {},
     "output_type": "execute_result"
    },
    {
     "data": {
      "image/png": "[encoded data removed]",
      "text/plain": [
       "<Figure size 432x288 with 1 Axes>"
      ]
     },
     "metadata": {
      "needs_background": "light"
     },
     "output_type": "display_data"
    }
   ],
   "source": [
    "# shot direction distribution\n",
    "plt.bar(directions,frequency)\n",
    "plt.xlabel('shot direction')\n",
    "plt.ylabel('frequency')"
   ]
  },
  {
   "cell_type": "code",
   "execution_count": 196,
   "metadata": {},
   "outputs": [],
   "source": [
    "# generating subsets for shots taken in different directions\n",
    "df_mid =df[(df['Direction']=='Middle')|(df['Direction']=='MIddle')]\n",
    "df_tr = df[(df['Direction']=='Top Right')|(df['Direction']=='  Top Right')]\n",
    "df_br = df[(df['Direction']=='Bottom Right')]\n",
    "df_tl = df[(df['Direction']=='Top Left')|(df['Direction']=='  Top Left')]\n",
    "df_bl = df[(df['Direction']=='Bottom Left')]"
   ]
  },
  {
   "cell_type": "code",
   "execution_count": 173,
   "metadata": {},
   "outputs": [
    {
     "data": {
      "text/plain": [
       "Index(['Kicker Name', 'Year', 'Location', 'Attendance', 'Weather',\n",
       "       'League round', 'Time of day', 'Keeper', 'Keeper height (m)', 'Club',\n",
       "       'Nationality', 'Captain', 'Number', 'Age', 'Role', 'Position',\n",
       "       'Dominant foot', 'Player height (m)', 'Player weight (kg)',\n",
       "       'Minutes played', 'Goals scored', 'Yellow card (y/n)',\n",
       "       'Team red card (y/n)', 'Kick #', 'Game On Line (y/n)',\n",
       "       'Deficit/Lead (SO)', 'Direction', 'Result', 'Keeper Play', 'Post (y/n)',\n",
       "       'GOLDEN BALL?'],\n",
       "      dtype='object')"
      ]
     },
     "execution_count": 173,
     "metadata": {},
     "output_type": "execute_result"
    }
   ],
   "source": [
    "# reminder of features\n",
    "df.columns"
   ]
  },
  {
   "cell_type": "code",
   "execution_count": 170,
   "metadata": {},
   "outputs": [],
   "source": [
    "#df.drop(['WORLD CUP DETAILS','GAME DETAILS','KEEPER DETAILS','PLAYER DETAILS','PLAYER IN-GAME STATS','SHOOTOUT FACTS','FOR LATER PROJECT','Home/Away','Lead/Deficit','FIFA pk rating','PES pk rating','Games missed ','UCL experience'],axis=1,inplace=True)"
   ]
  },
  {
   "cell_type": "code",
   "execution_count": 172,
   "metadata": {},
   "outputs": [
    {
     "data": {
      "text/html": [
       "<div>\n",
       "<style scoped>\n",
       "    .dataframe tbody tr th:only-of-type {\n",
       "        vertical-align: middle;\n",
       "    }\n",
       "\n",
       "    .dataframe tbody tr th {\n",
       "        vertical-align: top;\n",
       "    }\n",
       "\n",
       "    .dataframe thead th {\n",
       "        text-align: right;\n",
       "    }\n",
       "</style>\n",
       "<table border=\"1\" class=\"dataframe\">\n",
       "  <thead>\n",
       "    <tr style=\"text-align: right;\">\n",
       "      <th></th>\n",
       "      <th>Kicker Name</th>\n",
       "      <th>Year</th>\n",
       "      <th>Location</th>\n",
       "      <th>Attendance</th>\n",
       "      <th>Weather</th>\n",
       "      <th>League round</th>\n",
       "      <th>Time of day</th>\n",
       "      <th>Keeper</th>\n",
       "      <th>Keeper height (m)</th>\n",
       "      <th>Club</th>\n",
       "      <th>...</th>\n",
       "      <th>Yellow card (y/n)</th>\n",
       "      <th>Team red card (y/n)</th>\n",
       "      <th>Kick #</th>\n",
       "      <th>Game On Line (y/n)</th>\n",
       "      <th>Deficit/Lead (SO)</th>\n",
       "      <th>Direction</th>\n",
       "      <th>Result</th>\n",
       "      <th>Keeper Play</th>\n",
       "      <th>Post (y/n)</th>\n",
       "      <th>GOLDEN BALL?</th>\n",
       "    </tr>\n",
       "  </thead>\n",
       "  <tbody>\n",
       "    <tr>\n",
       "      <td>0</td>\n",
       "      <td>Giresse</td>\n",
       "      <td>1982</td>\n",
       "      <td>Spain</td>\n",
       "      <td>70000</td>\n",
       "      <td>99 f</td>\n",
       "      <td>Semi Finals</td>\n",
       "      <td>9:00 PM</td>\n",
       "      <td>Schumacher</td>\n",
       "      <td>1.73</td>\n",
       "      <td>Bordeaux</td>\n",
       "      <td>...</td>\n",
       "      <td>YES</td>\n",
       "      <td>no</td>\n",
       "      <td>1</td>\n",
       "      <td>no</td>\n",
       "      <td>0-0</td>\n",
       "      <td>Bottom Left</td>\n",
       "      <td>Goal</td>\n",
       "      <td>Right</td>\n",
       "      <td>no</td>\n",
       "      <td>NaN</td>\n",
       "    </tr>\n",
       "    <tr>\n",
       "      <td>1</td>\n",
       "      <td>Kaltz</td>\n",
       "      <td>1982</td>\n",
       "      <td>Spain</td>\n",
       "      <td>70000</td>\n",
       "      <td>99 f</td>\n",
       "      <td>Semi Finals</td>\n",
       "      <td>9:00 PM</td>\n",
       "      <td>Ettori</td>\n",
       "      <td>1.86</td>\n",
       "      <td>Hamburg</td>\n",
       "      <td>...</td>\n",
       "      <td>no</td>\n",
       "      <td>no</td>\n",
       "      <td>2</td>\n",
       "      <td>no</td>\n",
       "      <td>0-1</td>\n",
       "      <td>Bottom Right</td>\n",
       "      <td>Goal</td>\n",
       "      <td>Left</td>\n",
       "      <td>no</td>\n",
       "      <td>NaN</td>\n",
       "    </tr>\n",
       "    <tr>\n",
       "      <td>2</td>\n",
       "      <td>Amoros</td>\n",
       "      <td>1982</td>\n",
       "      <td>Spain</td>\n",
       "      <td>70000</td>\n",
       "      <td>99 f</td>\n",
       "      <td>Semi Finals</td>\n",
       "      <td>9:00 PM</td>\n",
       "      <td>Schumacher</td>\n",
       "      <td>1.73</td>\n",
       "      <td>Monaco</td>\n",
       "      <td>...</td>\n",
       "      <td>no</td>\n",
       "      <td>no</td>\n",
       "      <td>3</td>\n",
       "      <td>no</td>\n",
       "      <td>1-1</td>\n",
       "      <td>Top Right</td>\n",
       "      <td>Goal</td>\n",
       "      <td>Left</td>\n",
       "      <td>no</td>\n",
       "      <td>NaN</td>\n",
       "    </tr>\n",
       "    <tr>\n",
       "      <td>3</td>\n",
       "      <td>Breitner</td>\n",
       "      <td>1982</td>\n",
       "      <td>Spain</td>\n",
       "      <td>70000</td>\n",
       "      <td>99 f</td>\n",
       "      <td>Semi Finals</td>\n",
       "      <td>9:00 PM</td>\n",
       "      <td>Ettori</td>\n",
       "      <td>1.86</td>\n",
       "      <td>Munich</td>\n",
       "      <td>...</td>\n",
       "      <td>no</td>\n",
       "      <td>no</td>\n",
       "      <td>4</td>\n",
       "      <td>no</td>\n",
       "      <td>1-2</td>\n",
       "      <td>Top Right</td>\n",
       "      <td>Goal</td>\n",
       "      <td>Left</td>\n",
       "      <td>no</td>\n",
       "      <td>NaN</td>\n",
       "    </tr>\n",
       "    <tr>\n",
       "      <td>4</td>\n",
       "      <td>Rocheteau</td>\n",
       "      <td>1982</td>\n",
       "      <td>Spain</td>\n",
       "      <td>70000</td>\n",
       "      <td>99 f</td>\n",
       "      <td>Semi Finals</td>\n",
       "      <td>9:00 PM</td>\n",
       "      <td>Schumacher</td>\n",
       "      <td>1.73</td>\n",
       "      <td>PSG</td>\n",
       "      <td>...</td>\n",
       "      <td>no</td>\n",
       "      <td>no</td>\n",
       "      <td>5</td>\n",
       "      <td>no</td>\n",
       "      <td>2-2</td>\n",
       "      <td>Bottom Right</td>\n",
       "      <td>Goal</td>\n",
       "      <td>Left</td>\n",
       "      <td>no</td>\n",
       "      <td>NaN</td>\n",
       "    </tr>\n",
       "  </tbody>\n",
       "</table>\n",
       "<p>5 rows × 31 columns</p>\n",
       "</div>"
      ],
      "text/plain": [
       "  Kicker Name  Year Location  Attendance Weather League round Time of day  \\\n",
       "0     Giresse  1982    Spain       70000    99 f  Semi Finals     9:00 PM   \n",
       "1       Kaltz  1982    Spain       70000    99 f  Semi Finals     9:00 PM   \n",
       "2      Amoros  1982    Spain       70000    99 f  Semi Finals     9:00 PM   \n",
       "3    Breitner  1982    Spain       70000    99 f  Semi Finals     9:00 PM   \n",
       "4   Rocheteau  1982    Spain       70000    99 f  Semi Finals     9:00 PM   \n",
       "\n",
       "       Keeper  Keeper height (m)      Club  ... Yellow card (y/n)  \\\n",
       "0  Schumacher               1.73  Bordeaux  ...               YES   \n",
       "1      Ettori               1.86   Hamburg  ...                no   \n",
       "2  Schumacher               1.73    Monaco  ...                no   \n",
       "3      Ettori               1.86    Munich  ...                no   \n",
       "4  Schumacher               1.73       PSG  ...                no   \n",
       "\n",
       "  Team red card (y/n)  Kick #  Game On Line (y/n) Deficit/Lead (SO)  \\\n",
       "0                  no       1                  no               0-0   \n",
       "1                  no       2                  no               0-1   \n",
       "2                  no       3                  no               1-1   \n",
       "3                  no       4                  no               1-2   \n",
       "4                  no       5                  no               2-2   \n",
       "\n",
       "      Direction Result  Keeper Play  Post (y/n)  GOLDEN BALL?  \n",
       "0   Bottom Left   Goal        Right          no           NaN  \n",
       "1  Bottom Right   Goal         Left          no           NaN  \n",
       "2     Top Right   Goal         Left          no           NaN  \n",
       "3     Top Right   Goal         Left          no           NaN  \n",
       "4  Bottom Right   Goal         Left          no           NaN  \n",
       "\n",
       "[5 rows x 31 columns]"
      ]
     },
     "execution_count": 172,
     "metadata": {},
     "output_type": "execute_result"
    }
   ],
   "source": [
    "# preview of data\n",
    "df.head()"
   ]
  },
  {
   "cell_type": "code",
   "execution_count": 199,
   "metadata": {},
   "outputs": [
    {
     "data": {
      "text/plain": [
       "Goal     0.8\n",
       "Saved    0.1\n",
       "Miss     0.1\n",
       "Name: Result, dtype: float64"
      ]
     },
     "execution_count": 199,
     "metadata": {},
     "output_type": "execute_result"
    }
   ],
   "source": [
    "# shots taken to the top right results\n",
    "df_tr['Result'].value_counts()/df_tr.shape[0]"
   ]
  },
  {
   "cell_type": "code",
   "execution_count": 200,
   "metadata": {},
   "outputs": [
    {
     "data": {
      "text/plain": [
       "Goal     0.75\n",
       "Saved    0.25\n",
       "Name: Result, dtype: float64"
      ]
     },
     "execution_count": 200,
     "metadata": {},
     "output_type": "execute_result"
    }
   ],
   "source": [
    "# shots taken to the bottom right results\n",
    "df_br['Result'].value_counts()/df_br.shape[0]"
   ]
  },
  {
   "cell_type": "code",
   "execution_count": 201,
   "metadata": {},
   "outputs": [
    {
     "data": {
      "text/plain": [
       "Goal     0.724138\n",
       "Saved    0.137931\n",
       "Miss     0.137931\n",
       "Name: Result, dtype: float64"
      ]
     },
     "execution_count": 201,
     "metadata": {},
     "output_type": "execute_result"
    }
   ],
   "source": [
    "# shots taken to the top left results\n",
    "df_tl['Result'].value_counts()/df_tl.shape[0]"
   ]
  },
  {
   "cell_type": "code",
   "execution_count": 202,
   "metadata": {},
   "outputs": [
    {
     "data": {
      "text/plain": [
       "Goal     0.59375\n",
       "Saved    0.40625\n",
       "Name: Result, dtype: float64"
      ]
     },
     "execution_count": 202,
     "metadata": {},
     "output_type": "execute_result"
    }
   ],
   "source": [
    "# shots taken to the bottom left results\n",
    "df_bl['Result'].value_counts()/df_bl.shape[0]"
   ]
  },
  {
   "cell_type": "code",
   "execution_count": 197,
   "metadata": {},
   "outputs": [
    {
     "data": {
      "text/plain": [
       "Goal     0.800000\n",
       "Miss     0.133333\n",
       "Saved    0.066667\n",
       "Name: Result, dtype: float64"
      ]
     },
     "execution_count": 197,
     "metadata": {},
     "output_type": "execute_result"
    }
   ],
   "source": [
    "# shots taken to the middle results\n",
    "df_mid['Result'].value_counts()/df_mid.shape[0]"
   ]
  },
  {
   "cell_type": "code",
   "execution_count": 195,
   "metadata": {},
   "outputs": [
    {
     "data": {
      "text/plain": [
       "(134, 31)"
      ]
     },
     "execution_count": 195,
     "metadata": {},
     "output_type": "execute_result"
    }
   ],
   "source": [
    "# shape of data frame\n",
    "df.shape"
   ]
  },
  {
   "cell_type": "code",
   "execution_count": 194,
   "metadata": {},
   "outputs": [
    {
     "data": {
      "text/plain": [
       "(8, 31)"
      ]
     },
     "execution_count": 194,
     "metadata": {},
     "output_type": "execute_result"
    }
   ],
   "source": [
    "# data shape of shots that completely missed\n",
    "df_miss.shape"
   ]
  },
  {
   "cell_type": "code",
   "execution_count": 189,
   "metadata": {},
   "outputs": [],
   "source": [
    "# data where the game was on the line\n",
    "df_gameonline = df[df['Game On Line (y/n)']=='YES']"
   ]
  },
  {
   "cell_type": "code",
   "execution_count": 191,
   "metadata": {},
   "outputs": [
    {
     "data": {
      "text/plain": [
       "Goal     5\n",
       "Saved    4\n",
       "Miss     3\n",
       "###      1\n",
       "Name: Result, dtype: int64"
      ]
     },
     "execution_count": 191,
     "metadata": {},
     "output_type": "execute_result"
    }
   ],
   "source": [
    "# data where game was on the line and results\n",
    "df_gameonline['Result'].value_counts()"
   ]
  },
  {
   "cell_type": "code",
   "execution_count": 125,
   "metadata": {},
   "outputs": [
    {
     "name": "stdout",
     "output_type": "stream",
     "text": [
      "average kick percent\n"
     ]
    },
    {
     "data": {
      "text/plain": [
       "0.7238805970149254"
      ]
     },
     "execution_count": 125,
     "metadata": {},
     "output_type": "execute_result"
    }
   ],
   "source": [
    "# average kick accuracy\n",
    "print('average kick percent')\n",
    "df['Result'].value_counts()[0]/(df.shape[0])"
   ]
  },
  {
   "cell_type": "code",
   "execution_count": 126,
   "metadata": {},
   "outputs": [],
   "source": [
    "# data where one teammate at least had a yellow card\n",
    "df_yellow = df[df['Yellow card (y/n)']=='YES']"
   ]
  },
  {
   "cell_type": "code",
   "execution_count": 127,
   "metadata": {},
   "outputs": [
    {
     "name": "stdout",
     "output_type": "stream",
     "text": [
      "effect of yellow cards on pk percent\n"
     ]
    },
    {
     "data": {
      "text/plain": [
       "0.7222222222222222"
      ]
     },
     "execution_count": 127,
     "metadata": {},
     "output_type": "execute_result"
    }
   ],
   "source": [
    "# kick percent with a yellow card in play\n",
    "print('effect of yellow cards on pk percent')\n",
    "df_yellow['Result'].value_counts()[0]/18"
   ]
  },
  {
   "cell_type": "code",
   "execution_count": 128,
   "metadata": {},
   "outputs": [],
   "source": [
    "# data frame where a team got red carded\n",
    "df_red = df[df['Team red card (y/n)']=='YES']"
   ]
  },
  {
   "cell_type": "code",
   "execution_count": 129,
   "metadata": {},
   "outputs": [
    {
     "name": "stdout",
     "output_type": "stream",
     "text": [
      "effect of red cards on pk percent\n"
     ]
    },
    {
     "data": {
      "text/plain": [
       "0.6571428571428571"
      ]
     },
     "execution_count": 129,
     "metadata": {},
     "output_type": "execute_result"
    }
   ],
   "source": [
    "# effect of teams that got a red card\n",
    "print('effect of red cards on pk percent')\n",
    "df_red['Result'].value_counts()[0]/(df_red.shape[0])"
   ]
  },
  {
   "cell_type": "code",
   "execution_count": 130,
   "metadata": {},
   "outputs": [],
   "source": [
    "# getting average of goalkeepers\n",
    "keep_mean = df['Keeper height (m)'].mean()"
   ]
  },
  {
   "cell_type": "code",
   "execution_count": 131,
   "metadata": {},
   "outputs": [],
   "source": [
    "# splitting data into taller and shorter keepers\n",
    "df_low_keeper = df[df['Keeper height (m)']<keep_mean]\n",
    "df_high_keeper = df[df['Keeper height (m)']>=keep_mean]"
   ]
  },
  {
   "cell_type": "code",
   "execution_count": 203,
   "metadata": {},
   "outputs": [
    {
     "name": "stdout",
     "output_type": "stream",
     "text": [
      "short keeper save percent\n",
      "Goal     0.630769\n",
      "Saved    0.276923\n",
      "Miss     0.076923\n",
      "###      0.015385\n",
      "Name: Result, dtype: float64\n",
      "tall keeper save percent\n",
      "Goal     0.811594\n",
      "Saved    0.115942\n",
      "Miss     0.043478\n",
      "###      0.028986\n",
      "Name: Result, dtype: float64\n"
     ]
    }
   ],
   "source": [
    "# stats comparing tall and short keepers\n",
    "print('short keeper save percent')\n",
    "print(df_low_keeper['Result'].value_counts()/(df_low_keeper.shape[0]))\n",
    "print('tall keeper save percent')\n",
    "print(df_high_keeper['Result'].value_counts()/(df_high_keeper.shape[0]))"
   ]
  },
  {
   "cell_type": "code",
   "execution_count": 133,
   "metadata": {},
   "outputs": [
    {
     "data": {
      "text/plain": [
       "France         16\n",
       "Italy          15\n",
       "Argentina      14\n",
       "Germany        14\n",
       "Brazil         13\n",
       "Romania        11\n",
       "England        10\n",
       "Mexico          7\n",
       "Sweden          6\n",
       "Spain           5\n",
       "Belgium         5\n",
       "Yugoslavia      5\n",
       "Ireland         5\n",
       "Netherlands     4\n",
       "Bulgaria        4\n",
       "Name: Nationality, dtype: int64"
      ]
     },
     "execution_count": 133,
     "metadata": {},
     "output_type": "execute_result"
    }
   ],
   "source": [
    "# distribution of nationality\n",
    "df['Nationality'].value_counts('')"
   ]
  },
  {
   "cell_type": "code",
   "execution_count": 68,
   "metadata": {},
   "outputs": [],
   "source": [
    "# data sorted by nationality\n",
    "df_sort = df.sort_values(by = 'Nationality')"
   ]
  },
  {
   "cell_type": "code",
   "execution_count": 94,
   "metadata": {},
   "outputs": [
    {
     "name": "stdout",
     "output_type": "stream",
     "text": [
      "4\n"
     ]
    },
    {
     "data": {
      "text/plain": [
       "127     Goal\n",
       "129     Goal\n",
       "131    Saved\n",
       "133    Saved\n",
       "Name: Result, dtype: object"
      ]
     },
     "execution_count": 94,
     "metadata": {},
     "output_type": "execute_result"
    }
   ],
   "source": [
    "# information on the netherlands\n",
    "print(len(df_sort.loc[(df_sort['Nationality']=='Netherlands')]['Result']))\n",
    "df_sort.loc[(df_sort['Nationality']=='Netherlands')]['Result']"
   ]
  },
  {
   "cell_type": "code",
   "execution_count": 98,
   "metadata": {},
   "outputs": [],
   "source": [
    "# results by nationality\n",
    "result_dict={'arg':11/14,'bel':5/5,'bul':3/4,'bra':10/13,'fra':12/16,'ita':8/15,'ger':13/14,'rom':8/11,'eng':7/10,'mex':2/7,'swe':5/6,'spa':4/5,'yug':3/5,'ire':5/5,'net':2/4}"
   ]
  },
  {
   "cell_type": "code",
   "execution_count": 112,
   "metadata": {},
   "outputs": [
    {
     "name": "stdout",
     "output_type": "stream",
     "text": [
      "[0.7857142857142857, 1.0, 0.75, 0.7692307692307693, 0.75, 0.5333333333333333, 0.9285714285714286, 0.7272727272727273, 0.7, 0.2857142857142857, 0.8333333333333334, 0.8, 0.6, 1.0, 0.5]\n",
      "\n",
      "\n",
      "the average is\n",
      "0.7308780108780109\n",
      "\n",
      "\n",
      "there are about 7 outliers out of 15 countries\n"
     ]
    }
   ],
   "source": [
    "# results by country in percentages\n",
    "print(list(result_dict.values()))\n",
    "print(\"\")\n",
    "print(\"\")\n",
    "print('the average is')\n",
    "print(np.mean(list(result_dict.values())))\n",
    "print(\"\")\n",
    "print(\"\")\n",
    "print('there are about 7 outliers out of 15 countries')"
   ]
  },
  {
   "cell_type": "code",
   "execution_count": 177,
   "metadata": {},
   "outputs": [
    {
     "data": {
      "text/plain": [
       "Goal     0.750000\n",
       "Miss     0.166667\n",
       "Saved    0.083333\n",
       "Name: Result, dtype: float64"
      ]
     },
     "execution_count": 177,
     "metadata": {},
     "output_type": "execute_result"
    }
   ],
   "source": [
    "# stats of captains of teams\n",
    "df_cap = df[df['Captain']=='YES']\n",
    "df_cap['Result'].value_counts()/df_cap.shape[0]"
   ]
  },
  {
   "cell_type": "code",
   "execution_count": 178,
   "metadata": {},
   "outputs": [
    {
     "data": {
      "text/plain": [
       "Goal     0.680556\n",
       "Saved    0.194444\n",
       "Miss     0.097222\n",
       "###      0.027778\n",
       "Name: Result, dtype: float64"
      ]
     },
     "execution_count": 178,
     "metadata": {},
     "output_type": "execute_result"
    }
   ],
   "source": [
    "# stats of midfielders of teams\n",
    "df_mid = df[df['Role']=='M']\n",
    "df_mid['Result'].value_counts()/df_mid.shape[0]"
   ]
  },
  {
   "cell_type": "code",
   "execution_count": 182,
   "metadata": {},
   "outputs": [
    {
     "data": {
      "text/plain": [
       "Goal     0.714286\n",
       "Saved    0.214286\n",
       "Miss     0.035714\n",
       "###      0.035714\n",
       "Name: Result, dtype: float64"
      ]
     },
     "execution_count": 182,
     "metadata": {},
     "output_type": "execute_result"
    }
   ],
   "source": [
    "# stats of defensemen of teams\n",
    "df_def = df[df['Role']=='D']\n",
    "df_def['Result'].value_counts()/df_def.shape[0]"
   ]
  },
  {
   "cell_type": "code",
   "execution_count": 183,
   "metadata": {},
   "outputs": [
    {
     "data": {
      "text/plain": [
       "Goal     0.823529\n",
       "Saved    0.176471\n",
       "Name: Result, dtype: float64"
      ]
     },
     "execution_count": 183,
     "metadata": {},
     "output_type": "execute_result"
    }
   ],
   "source": [
    "# stats of forwards of teams\n",
    "df_for = df[df['Role']=='F']\n",
    "df_for['Result'].value_counts()/df_for.shape[0]"
   ]
  },
  {
   "cell_type": "code",
   "execution_count": 184,
   "metadata": {},
   "outputs": [
    {
     "data": {
      "text/plain": [
       "Goal     0.706422\n",
       "Saved    0.201835\n",
       "Miss     0.064220\n",
       "###      0.027523\n",
       "Name: Result, dtype: float64"
      ]
     },
     "execution_count": 184,
     "metadata": {},
     "output_type": "execute_result"
    }
   ],
   "source": [
    "# stats when people play the whole game\n",
    "df_120 = df[df['Minutes played']==120]\n",
    "df_120['Result'].value_counts()/df_120.shape[0]"
   ]
  },
  {
   "cell_type": "code",
   "execution_count": 185,
   "metadata": {},
   "outputs": [
    {
     "data": {
      "text/plain": [
       "Goal     0.80\n",
       "Saved    0.16\n",
       "Miss     0.04\n",
       "Name: Result, dtype: float64"
      ]
     },
     "execution_count": 185,
     "metadata": {},
     "output_type": "execute_result"
    }
   ],
   "source": [
    "# stats of subs\n",
    "df_sub = df[df['Minutes played']!=120]\n",
    "df_sub['Result'].value_counts()/df_sub.shape[0]"
   ]
  },
  {
   "cell_type": "code",
   "execution_count": null,
   "metadata": {},
   "outputs": [],
   "source": [
    "# Number Age Dominant foot"
   ]
  },
  {
   "cell_type": "code",
   "execution_count": 186,
   "metadata": {
    "jupyter": {
     "source_hidden": true
    }
   },
   "outputs": [
    {
     "data": {
      "text/plain": [
       "Goal     0.715686\n",
       "Saved    0.205882\n",
       "Miss     0.049020\n",
       "###      0.029412\n",
       "Name: Result, dtype: float64"
      ]
     },
     "execution_count": 186,
     "metadata": {},
     "output_type": "execute_result"
    }
   ],
   "source": [
    "df_right = df[df['Dominant foot']=='Right']\n",
    "df_right['Result'].value_counts()/df_right.shape[0]"
   ]
  },
  {
   "cell_type": "code",
   "execution_count": 187,
   "metadata": {},
   "outputs": [
    {
     "data": {
      "text/plain": [
       "Goal     0.75000\n",
       "Saved    0.15625\n",
       "Miss     0.09375\n",
       "Name: Result, dtype: float64"
      ]
     },
     "execution_count": 187,
     "metadata": {},
     "output_type": "execute_result"
    }
   ],
   "source": [
    "# stats on lefties\n",
    "df_left = df[df['Dominant foot']!='Right']\n",
    "df_left['Result'].value_counts()/df_left.shape[0]"
   ]
  }
 ],
 "metadata": {
  "kernelspec": {
   "display_name": "Python 3",
   "language": "python",
   "name": "python3"
  },
  "language_info": {
   "codemirror_mode": {
    "name": "ipython",
    "version": 3
   },
   "file_extension": ".py",
   "mimetype": "text/x-python",
   "name": "python",
   "nbconvert_exporter": "python",
   "pygments_lexer": "ipython3",
   "version": "3.7.4"
  }
 },
 "nbformat": 4,
 "nbformat_minor": 4
}
